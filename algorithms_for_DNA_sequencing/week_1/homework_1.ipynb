{
 "cells": [
  {
   "cell_type": "code",
   "execution_count": null,
   "metadata": {},
   "outputs": [],
   "source": []
  },
  {
   "cell_type": "code",
   "execution_count": 1,
   "metadata": {},
   "outputs": [],
   "source": [
    "# First, implement a version of the naive exact matching algorithm that is strand-aware. \n",
    "# That is, instead of looking only for occurrences of P in T, additionally look for occurrences of thereverse complement of P in T. \n",
    "# If P is ACT, your function should find occurrences of both ACTand its reverse complement AGT in T."
   ]
  },
  {
   "cell_type": "code",
   "execution_count": 10,
   "metadata": {},
   "outputs": [],
   "source": [
    "def reverseComplement(s):\n",
    "    complement = {'A': 'T', 'C': 'G', 'G': 'C', 'T': 'A', 'N': 'N'}\n",
    "    t = ''\n",
    "    for base in s:\n",
    "        t = complement[base] + t\n",
    "    return t\n",
    "\n",
    "\n",
    "def naive_with_rc(p, t):\n",
    "    \n",
    "    occurrences = []\n",
    "    \n",
    "    # loop over forward alignments\n",
    "    for i in range(len(t) - len(p) + 1):  \n",
    "        match = True\n",
    "        for j in range(len(p)):  # loop over characters\n",
    "            if t[i+j] != p[j]:  # compare characters\n",
    "                match = False\n",
    "                break\n",
    "        if match:\n",
    "            occurrences.append(i)  # all chars matched; record\n",
    "    \n",
    "    # loop over reverse alignments\n",
    "    reverse_p = reverseComplement(p)\n",
    "    \n",
    "    for i in range(len(t) - len(reverse_p) + 1):  \n",
    "        match = True\n",
    "        for j in range(len(reverse_p)):  # loop over characters\n",
    "            if t[i+j] != reverse_p[j]:  # compare characters\n",
    "                match = False\n",
    "                break\n",
    "        if match and i not in occurrences:\n",
    "            occurrences.append(i)  # all chars matched; record\n",
    "    \n",
    "#     occurrences = list(set(occurrences))\n",
    "    \n",
    "    return occurrences"
   ]
  },
  {
   "cell_type": "markdown",
   "metadata": {},
   "source": [
    "# Example 1¶\n"
   ]
  },
  {
   "cell_type": "code",
   "execution_count": 11,
   "metadata": {},
   "outputs": [
    {
     "name": "stdout",
     "output_type": "stream",
     "text": [
      "[10, 23]\n"
     ]
    }
   ],
   "source": [
    "p = 'CCC'\n",
    "ten_as = 'AAAAAAAAAA'\n",
    "t = ten_as + 'CCC' + ten_as + 'GGG' + ten_as\n",
    "occurrences = naive_with_rc(p, t)\n",
    "print(occurrences)"
   ]
  },
  {
   "cell_type": "markdown",
   "metadata": {},
   "source": [
    "# Example 2¶\n"
   ]
  },
  {
   "cell_type": "code",
   "execution_count": 12,
   "metadata": {},
   "outputs": [
    {
     "name": "stdout",
     "output_type": "stream",
     "text": [
      "[10, 24]\n"
     ]
    }
   ],
   "source": [
    "p = 'CGCG'\n",
    "t = ten_as + 'CGCG' + ten_as + 'CGCG' + ten_as\n",
    "occurrences = naive_with_rc(p, t)\n",
    "print(occurrences)"
   ]
  },
  {
   "cell_type": "markdown",
   "metadata": {},
   "source": [
    "# Example 3¶\n",
    "\n"
   ]
  },
  {
   "cell_type": "code",
   "execution_count": 13,
   "metadata": {},
   "outputs": [
    {
     "name": "stdout",
     "output_type": "stream",
     "text": [
      "--2022-04-15 20:55:37--  http://d396qusza40orc.cloudfront.net/ads1/data/phix.fa\n",
      "Resolving d396qusza40orc.cloudfront.net (d396qusza40orc.cloudfront.net)... 13.32.84.151, 13.32.84.152, 13.32.84.106, ...\n",
      "Connecting to d396qusza40orc.cloudfront.net (d396qusza40orc.cloudfront.net)|13.32.84.151|:80... connected.\n",
      "HTTP request sent, awaiting response... 200 OK\n",
      "Length: 5528 (5.4K) [application/octet-stream]\n",
      "Saving to: ‘phix.fa.1’\n",
      "\n",
      "phix.fa.1           100%[===================>]   5.40K  --.-KB/s    in 0s      \n",
      "\n",
      "2022-04-15 20:55:37 (486 MB/s) - ‘phix.fa.1’ saved [5528/5528]\n",
      "\n"
     ]
    }
   ],
   "source": [
    "# Phi-X genome\n",
    "!wget http://d396qusza40orc.cloudfront.net/ads1/data/phix.fa"
   ]
  },
  {
   "cell_type": "code",
   "execution_count": 14,
   "metadata": {},
   "outputs": [],
   "source": [
    "def readGenome(filename):\n",
    "    genome = ''\n",
    "    with open(filename, 'r') as f:\n",
    "        for line in f:\n",
    "            # ignore header line with genome information\n",
    "            if not line[0] == '>':\n",
    "                genome += line.rstrip()\n",
    "    return genome"
   ]
  },
  {
   "cell_type": "code",
   "execution_count": 15,
   "metadata": {},
   "outputs": [],
   "source": [
    "phix_genome = readGenome('phix.fa')"
   ]
  },
  {
   "cell_type": "code",
   "execution_count": 16,
   "metadata": {},
   "outputs": [],
   "source": [
    "occurrences = naive_with_rc('ATTA', phix_genome)\n"
   ]
  },
  {
   "cell_type": "code",
   "execution_count": 17,
   "metadata": {},
   "outputs": [
    {
     "name": "stdout",
     "output_type": "stream",
     "text": [
      "offset of leftmost occurrence: 62\n"
     ]
    }
   ],
   "source": [
    "print('offset of leftmost occurrence: %d' % min(occurrences))\n"
   ]
  },
  {
   "cell_type": "code",
   "execution_count": 18,
   "metadata": {},
   "outputs": [
    {
     "name": "stdout",
     "output_type": "stream",
     "text": [
      "# occurrences: 60\n"
     ]
    }
   ],
   "source": [
    "print('# occurrences: %d' % len(occurrences))"
   ]
  },
  {
   "cell_type": "code",
   "execution_count": 19,
   "metadata": {},
   "outputs": [],
   "source": [
    "# actual homework"
   ]
  },
  {
   "cell_type": "code",
   "execution_count": null,
   "metadata": {},
   "outputs": [],
   "source": [
    "lamda_genome = readGenome('lambda_virus.fa')"
   ]
  },
  {
   "cell_type": "code",
   "execution_count": 106,
   "metadata": {},
   "outputs": [
    {
     "name": "stdout",
     "output_type": "stream",
     "text": [
      "[122, 302, 383, 555, 729, 921, 2403, 2688, 3163, 3254, 4312, 4646, 4917, 5069, 5162, 5192, 5685, 6315, 6507, 6585, 7397, 7715, 7822, 7987, 8103, 8121, 8296, 8762, 8986, 9621, 10419, 10836, 11196, 11205, 11919, 12183, 12489, 12994, 13090, 13163, 13346, 13415, 13516, 13562, 13747, 13816, 14384, 14621, 14758, 14953, 15068, 15421, 15611, 16165, 16195, 16234, 16702, 17104, 17131, 17410, 17437, 17776, 17939, 18554, 18736, 18856, 18914, 18955, 19035, 19313, 19470, 19591, 19836, 19950, 19983, 20067, 20492, 20802, 21158, 21243, 22052, 22384, 23507, 23936, 23967, 24598, 25181, 25197, 25230, 25384, 25773, 26196, 26442, 26579, 26656, 27367, 27456, 27525, 27588, 27784, 27963, 28325, 28835, 28979, 30003, 30315, 30919, 31622, 32984, 35148, 35190, 35703, 36481, 36622, 37004, 37046, 37366, 37576, 37589, 38033, 38200, 38482, 38652, 38720, 39675, 39684, 39831, 40407, 40425, 40430, 40801, 40818, 41157, 41190, 41267, 41720, 42266, 43692, 43866, 44111, 44165, 44705, 44738, 44792, 45036, 46864, 47103, 47855, 48304, 48494, 8, 1367, 1663, 1676, 1712, 1772, 1893, 2051, 2244, 2678, 2756, 2817, 3300, 3829, 3853, 4115, 4254, 5761, 5869, 6341, 6834, 6983, 7506, 7627, 8010, 8719, 8932, 9084, 9464, 9980, 10916, 11426, 12392, 12512, 13105, 13217, 13351, 13507, 13575, 13675, 13941, 13947, 13953, 14863, 15291, 15553, 15846, 15876, 15981, 16015, 16473, 16486, 16611, 17371, 17944, 19450, 20958, 21209, 22263, 22452, 22517, 22866, 24284, 24390, 24735, 24920, 24943, 25084, 25172, 25243, 25336, 25407, 25449, 25567, 25584, 25675, 25789, 26181, 26434, 26715, 26793, 27565, 27991, 28020, 28358, 28904, 28929, 29503, 29541, 29559, 29897, 29918, 30131, 30400, 31008, 31120, 31555, 31834, 32034, 32699, 32819, 32837, 34362, 34537, 34791, 35551, 36293, 36377, 36512, 36599, 36638, 36998, 37216, 37335, 37406, 37496, 37503, 37565, 37998, 38295, 38862, 38927, 39202, 39265, 39544, 40056, 40204, 40307, 40496, 40655, 40905, 42008, 42141, 42203, 42222, 42799, 43011, 43302, 43347, 43851, 44393, 44407, 45012, 45050, 45137, 45207, 45276, 45363, 45806, 46058, 47211, 47267, 47441, 47459, 47523, 48387]\n"
     ]
    },
    {
     "data": {
      "text/plain": [
       "306"
      ]
     },
     "execution_count": 106,
     "metadata": {},
     "output_type": "execute_result"
    }
   ],
   "source": [
    "# q1\n",
    "\n",
    "AGGT = naive_with_rc('AGGT', lamda_genome)\n",
    "print(AGGT)\n",
    "len(AGGT)"
   ]
  },
  {
   "cell_type": "code",
   "execution_count": 23,
   "metadata": {},
   "outputs": [
    {
     "name": "stdout",
     "output_type": "stream",
     "text": [
      "[46, 77, 90, 732, 1455, 2175, 3274, 3418, 4348, 4463, 5267, 5708, 6075, 6183, 6540, 7026, 7948, 8061, 8199, 8460, 9078, 9252, 9691, 9951, 11082, 11115, 11517, 11583, 12618, 12966, 14107, 14991, 15627, 15967, 16033, 16294, 16858, 18868, 19136, 19481, 20799, 21440, 21634, 21701, 21902, 21947, 22723, 23047, 23083, 23110, 23205, 23278, 23284, 23478, 23497, 23554, 23692, 23886, 23978, 23986, 24072, 24101, 24750, 24986, 25169, 25254, 25352, 25436, 25577, 25745, 25967, 26132, 26425, 26450, 26482, 26522, 26584, 26650, 26665, 26678, 26692, 26762, 26809, 26983, 26992, 27037, 27091, 27202, 27316, 27682, 28455, 28568, 28921, 28971, 29373, 29980, 30381, 30619, 30638, 30721, 30734, 30755, 31168, 31807, 32193, 32217, 32640, 32703, 33221, 33350, 33687, 33735, 33747, 33800, 34201, 34365, 34405, 34589, 34617, 34686, 34734, 34752, 34830, 35061, 35259, 35533, 35540, 36274, 36281, 36302, 36429, 36491, 36530, 36542, 36603, 36735, 36756, 36878, 37031, 37441, 37765, 37782, 37881, 37915, 37943, 38163, 38286, 38411, 38833, 39606, 39834, 40146, 40505, 40559, 40880, 41016, 41422, 41651, 41714, 42316, 42630, 42650, 42672, 42813, 43409, 43491, 43506, 43527, 43592, 44423, 44537, 44595, 44867, 45150, 45787, 46032, 46407, 46555, 46803, 46842, 46852, 46895, 46951, 47255, 47273, 47286, 47429, 47575, 47698, 47798, 48058, 48124, 48226, 48358, 48377]\n",
      "195\n"
     ]
    }
   ],
   "source": [
    "# 2\n",
    "\n",
    "TTAA = naive_with_rc('TTAA', lamda_genome)\n",
    "print(TTAA)\n",
    "print(len(TTAA))"
   ]
  },
  {
   "cell_type": "code",
   "execution_count": 24,
   "metadata": {},
   "outputs": [
    {
     "name": "stdout",
     "output_type": "stream",
     "text": [
      "[27733, 45382, 26028]\n",
      "3\n"
     ]
    }
   ],
   "source": [
    "ACTAAGT = naive_with_rc('ACTAAGT', lamda_genome)\n",
    "print(ACTAAGT)\n",
    "print(len(ACTAAGT))"
   ]
  },
  {
   "cell_type": "code",
   "execution_count": 25,
   "metadata": {},
   "outputs": [
    {
     "name": "stdout",
     "output_type": "stream",
     "text": [
      "[18005, 23320, 33657, 44806, 450, 1908, 2472, 41927, 45369]\n",
      "9\n"
     ]
    }
   ],
   "source": [
    "AGTCGA = naive_with_rc('AGTCGA', lamda_genome)\n",
    "print(AGTCGA)\n",
    "print(len(AGTCGA))"
   ]
  },
  {
   "cell_type": "code",
   "execution_count": 32,
   "metadata": {},
   "outputs": [],
   "source": [
    "def naive_2mm(p, t):\n",
    "    \n",
    "    occurrences = []\n",
    "    \n",
    "    # loop over forward alignments\n",
    "    for i in range(len(t) - len(p) + 1):  \n",
    "        misses = 0\n",
    "        match = True\n",
    "        for j in range(len(p)):  # loop over characters\n",
    "            if t[i+j] != p[j]:  # compare characters\n",
    "                misses += 1\n",
    "            if misses >= 3:\n",
    "                match = False\n",
    "                break\n",
    "#             print(j, misses)\n",
    "        if match:\n",
    "            occurrences.append(i)  # all chars matched; record\n",
    "    \n",
    "    return occurrences"
   ]
  },
  {
   "cell_type": "code",
   "execution_count": 33,
   "metadata": {},
   "outputs": [
    {
     "name": "stdout",
     "output_type": "stream",
     "text": [
      "[10, 24, 38]\n"
     ]
    }
   ],
   "source": [
    "# Example 1\n",
    "p = 'CTGT'\n",
    "ten_as = 'AAAAAAAAAA'\n",
    "t = ten_as + 'CTGT' + ten_as + 'CTTT' + ten_as + 'CGGG' + ten_as\n",
    "occurrences = naive_2mm(p, t)\n",
    "print(occurrences)"
   ]
  },
  {
   "cell_type": "code",
   "execution_count": null,
   "metadata": {},
   "outputs": [],
   "source": [
    "# Example 2"
   ]
  },
  {
   "cell_type": "code",
   "execution_count": 34,
   "metadata": {},
   "outputs": [
    {
     "name": "stdout",
     "output_type": "stream",
     "text": [
      "offset of leftmost occurrence: 10\n",
      "# occurrences: 79\n"
     ]
    }
   ],
   "source": [
    "occurrences = naive_2mm('GATTACA', phix_genome)\n",
    "print('offset of leftmost occurrence: %d' % min(occurrences))\n",
    "print('# occurrences: %d' % len(occurrences))\n"
   ]
  },
  {
   "cell_type": "code",
   "execution_count": 35,
   "metadata": {},
   "outputs": [
    {
     "name": "stdout",
     "output_type": "stream",
     "text": [
      "[45, 418, 656, 776, 975, 1311, 1346, 3166, 3265, 3292, 3544, 4237, 4378, 4481, 4518, 5240, 5369, 5597, 5773, 5871, 5971, 6350, 6365, 6564, 6572, 6684, 6731, 6764, 6765, 6929, 7026, 7487, 7783, 7790, 8222, 8251, 8284, 8749, 9078, 9197, 9506, 9942, 10734, 10969, 11211, 11331, 11453, 11640, 11973, 12711, 13670, 13750, 13884, 14687, 14884, 15745, 16293, 16817, 17107, 17349, 17541, 17779, 17838, 18792, 19067, 19719, 19779, 21614, 21854, 22174, 22462, 22722, 22956, 23126, 23522, 23677, 23683, 23820, 23885, 24369, 24584, 24787, 25116, 25554, 26046, 26665, 26887, 27237, 27258, 28166, 28276, 28531, 28639, 28920, 28963, 29021, 29144, 29733, 29921, 30176, 30278, 30362, 30395, 30536, 30721, 30967, 31049, 31379, 31449, 31474, 31482, 31641, 31732, 31749, 31829, 31867, 31872, 32523, 32640, 32754, 32779, 32857, 32977, 33079, 33107, 33371, 33403, 33653, 33686, 33863, 34061, 34194, 34466, 34588, 34733, 34785, 35009, 35156, 35525, 35971, 36074, 36989, 37116, 37241, 37467, 37499, 37505, 37715, 37739, 37773, 37880, 37898, 38140, 38144, 38202, 38260, 38325, 38944, 38979, 40379, 40695, 40716, 40880, 41275, 41350, 41518, 41834, 42170, 42650, 42675, 42684, 42934, 42971, 42980, 43061, 43076, 43169, 44012, 44253, 44340, 44422, 44717, 44747, 45894, 46272, 46482, 47207, 47272, 47509, 47963, 48234]\n",
      "191\n"
     ]
    }
   ],
   "source": [
    "# 5 \n",
    "\n",
    "TTCAAGCC = naive_2mm('TTCAAGCC', lamda_genome)\n",
    "print(TTCAAGCC)\n",
    "print(len(TTCAAGCC))"
   ]
  },
  {
   "cell_type": "code",
   "execution_count": 36,
   "metadata": {},
   "outputs": [
    {
     "name": "stdout",
     "output_type": "stream",
     "text": [
      "[49, 282, 299, 302, 380, 1560, 1650, 2235, 2277, 2400, 2562, 2565, 2729, 2823, 3160, 3181, 3946, 4210, 4294, 4309, 4405, 4580, 5069, 5159, 5189, 5231, 5331, 5519, 5737, 5882, 5993, 5996, 6011, 6312, 6522, 6585, 6606, 7316, 7394, 7819, 7904, 7966, 7998, 8534, 8648, 8946, 9339, 9354, 9530, 9842, 9966, 10041, 10250, 10416, 10445, 10484, 10527, 10874, 11193, 11292, 11505, 11568, 11655, 11745, 11838, 12078, 12180, 12222, 12697, 12745, 12819, 12880, 12935, 13011, 13087, 13256, 13415, 13526, 13813, 14259, 15385, 15473, 16192, 17101, 17437, 17755, 17936, 17989, 18016, 18040, 18727, 18853, 18911, 19232, 19263, 19310, 19833, 19929, 19932, 19947, 19980, 20793, 20802, 21305, 21528, 21627, 21684, 22414, 22660, 22670, 22787, 23326, 24063, 24145, 24409, 24595, 24681, 25120, 25139, 25210, 25381, 25384, 25648, 25664, 25773, 25987, 26196, 26208, 26576, 26587, 26653, 26736, 27892, 27967, 28042, 28622, 28840, 28976, 29119, 30029, 30530, 30673, 30902, 31619, 31645, 31682, 31843, 31859, 32069, 33180, 33365, 33715, 33952, 34321, 34421, 34841, 34848, 34956, 35145, 35253, 35289, 35643, 36185, 36687, 36869, 38030, 38197, 38381, 38479, 38737, 39282, 39600, 39681, 39786, 39828, 39954, 40119, 40337, 40508, 40781, 40887, 40890, 40946, 41110, 41225, 41264, 41282, 41324, 41570, 41693, 41717, 41768, 42079, 42082, 42266, 42353, 43039, 43184, 43389, 43662, 43689, 45033, 45727, 45763, 45781, 45790, 46173, 46215, 47028, 47220, 47930, 48101, 48256, 48301, 48411]\n",
      "215\n"
     ]
    }
   ],
   "source": [
    "# 6\n",
    "\n",
    "AGGAGGTT = naive_2mm('AGGAGGTT', lamda_genome)\n",
    "print(AGGAGGTT)\n",
    "print(len(AGGAGGTT))"
   ]
  },
  {
   "cell_type": "code",
   "execution_count": 37,
   "metadata": {},
   "outputs": [
    {
     "name": "stdout",
     "output_type": "stream",
     "text": [
      "--2022-04-15 21:15:44--  https://d28rh4a8wq0iu5.cloudfront.net/ads1/data/ERR037900_1.first1000.fastq\n",
      "Resolving d28rh4a8wq0iu5.cloudfront.net (d28rh4a8wq0iu5.cloudfront.net)... 13.225.210.56, 13.225.210.209, 13.225.210.29, ...\n",
      "Connecting to d28rh4a8wq0iu5.cloudfront.net (d28rh4a8wq0iu5.cloudfront.net)|13.225.210.56|:443... connected.\n",
      "HTTP request sent, awaiting response... 200 OK\n",
      "Length: 241626 (236K) [application/octet-stream]\n",
      "Saving to: ‘ERR037900_1.first1000.fastq’\n",
      "\n",
      "ERR037900_1.first10 100%[===================>] 235.96K  --.-KB/s    in 0.1s    \n",
      "\n",
      "2022-04-15 21:15:46 (1.61 MB/s) - ‘ERR037900_1.first1000.fastq’ saved [241626/241626]\n",
      "\n"
     ]
    }
   ],
   "source": [
    "# 7\n",
    "\n",
    "!wget https://d28rh4a8wq0iu5.cloudfront.net/ads1/data/ERR037900_1.first1000.fastq"
   ]
  },
  {
   "cell_type": "code",
   "execution_count": 38,
   "metadata": {},
   "outputs": [],
   "source": [
    "human_genome = readGenome('ERR037900_1.first1000.fastq')"
   ]
  },
  {
   "cell_type": "code",
   "execution_count": 39,
   "metadata": {},
   "outputs": [
    {
     "data": {
      "text/plain": [
       "237226"
      ]
     },
     "execution_count": 39,
     "metadata": {},
     "output_type": "execute_result"
    }
   ],
   "source": [
    "len(human_genome)"
   ]
  },
  {
   "cell_type": "code",
   "execution_count": 70,
   "metadata": {},
   "outputs": [
    {
     "data": {
      "text/plain": [
       "1000"
      ]
     },
     "execution_count": 70,
     "metadata": {},
     "output_type": "execute_result"
    }
   ],
   "source": [
    "human_genome.count('@ERR037900')"
   ]
  },
  {
   "cell_type": "code",
   "execution_count": 71,
   "metadata": {},
   "outputs": [],
   "source": [
    "reads = human_genome.split('@ERR037900')"
   ]
  },
  {
   "cell_type": "code",
   "execution_count": 72,
   "metadata": {},
   "outputs": [
    {
     "data": {
      "text/plain": [
       "1001"
      ]
     },
     "execution_count": 72,
     "metadata": {},
     "output_type": "execute_result"
    }
   ],
   "source": [
    "len(reads)"
   ]
  },
  {
   "cell_type": "code",
   "execution_count": 73,
   "metadata": {},
   "outputs": [
    {
     "data": {
      "text/plain": [
       "'.1 509.8.8.8903.80024/1TAACCCTAACCCTAACCCTAACCCTAACCCTAACCCTAACCCTAACCCTAACCCTAACCCTAACCCNAACCCTAACCCTAACCCTAACCCTAACCCTAAC+HHHHHHHHHHHHHHHHHHHHHHHHHHHHHHHHHHHHHHHHHHHGFHHHFHFFHHHHHGHHFHEH@4#55554455HGFBF<@C>7EEF@FBEDDD<=C<E'"
      ]
     },
     "execution_count": 73,
     "metadata": {},
     "output_type": "execute_result"
    }
   ],
   "source": [
    "reads[1]"
   ]
  },
  {
   "cell_type": "code",
   "execution_count": 74,
   "metadata": {},
   "outputs": [
    {
     "data": {
      "text/plain": [
       "'HHHHHHHHHHHHHHHHHHHHHHHHHHHHHHHHHHHHHHHHHHHGFHHHFHFFHHHHHGHHFHEH@4#55554455HGFBF<@C>7EEF@FBEDDD<=C<E'"
      ]
     },
     "execution_count": 74,
     "metadata": {},
     "output_type": "execute_result"
    }
   ],
   "source": [
    "reads[1].split('+')[1]"
   ]
  },
  {
   "cell_type": "code",
   "execution_count": 75,
   "metadata": {},
   "outputs": [
    {
     "data": {
      "text/plain": [
       "100"
      ]
     },
     "execution_count": 75,
     "metadata": {},
     "output_type": "execute_result"
    }
   ],
   "source": [
    "len(reads[1].split('+')[1])"
   ]
  },
  {
   "cell_type": "code",
   "execution_count": 86,
   "metadata": {},
   "outputs": [],
   "source": [
    "quals = []\n",
    "for read in reads[1:]:\n",
    "#     print(read)\n",
    "    qual = read.split('+')[1]\n",
    "    quals.append(qual)"
   ]
  },
  {
   "cell_type": "code",
   "execution_count": 87,
   "metadata": {},
   "outputs": [
    {
     "data": {
      "text/plain": [
       "1000"
      ]
     },
     "execution_count": 87,
     "metadata": {},
     "output_type": "execute_result"
    }
   ],
   "source": [
    "len(quals)"
   ]
  },
  {
   "cell_type": "code",
   "execution_count": 95,
   "metadata": {},
   "outputs": [
    {
     "name": "stdout",
     "output_type": "stream",
     "text": [
      "0 H 39 1 H 39 2 H 39 3 H 39 4 H 39 5 H 39 6 H 39 7 H 39 8 H 39 9 H 39 10 H 39 11 H 39 12 H 39 13 H 39 14 H 39 15 H 39 16 H 39 17 H 39 18 H 39 19 H 39 20 H 39 21 H 39 22 H 39 23 H 39 24 H 39 25 H 39 26 H 39 27 H 39 28 H 39 29 H 39 30 H 39 31 H 39 32 H 39 33 H 39 34 H 39 35 H 39 36 H 39 37 H 39 38 H 39 39 H 39 40 H 39 41 H 39 42 H 39 43 H 39 44 H 39 45 H 39 46 H 39 47 H 39 48 H 39 49 H 39 50 H 39 51 H 39 52 H 39 53 H 39 54 H 39 55 H 39 56 C 34 57 H 39 58 H 39 59 H 39 60 H 39 61 E 36 62 H 39 63 H 39 64 B 33 65 A 32 66 # 2 67 C 34 68 > 29 69 @ 31 70 5 20 71 4 19 72 4 19 73 5 20 74 5 20 75 C 34 76 / 14 77 7 22 78 = 28 79 C 34 80 G 38 81 H 39 82 E 36 83 G 38 84 E 36 85 B 33 86 ; 26 87 C 34 88 # 2 89 # 2 90 # 2 91 # 2 92 # 2 93 # 2 94 # 2 95 # 2 96 # 2 97 # 2 98 # 2 99 # 2 "
     ]
    }
   ],
   "source": [
    "def phred33ToQ(qual):\n",
    "    return ord(qual) - 33\n",
    "\n",
    "qual_1 = quals[1]\n",
    "\n",
    "for i in range(len(qual_1)):\n",
    "    print(i, qual_1[i], phred33ToQ(qual_1[i]),end=' ')"
   ]
  },
  {
   "cell_type": "code",
   "execution_count": null,
   "metadata": {},
   "outputs": [],
   "source": []
  },
  {
   "cell_type": "code",
   "execution_count": 98,
   "metadata": {},
   "outputs": [],
   "source": [
    "qual_by_pos = {}\n",
    "\n",
    "for qual in quals:\n",
    "    for i in range(len(qual)):\n",
    "        if i in qual_by_pos:\n",
    "            qual_by_pos[i] += phred33ToQ(qual[i])\n",
    "        else:\n",
    "            qual_by_pos[i]= phred33ToQ(qual[i])"
   ]
  },
  {
   "cell_type": "code",
   "execution_count": null,
   "metadata": {},
   "outputs": [],
   "source": []
  },
  {
   "cell_type": "code",
   "execution_count": 99,
   "metadata": {},
   "outputs": [
    {
     "data": {
      "text/plain": [
       "{0: 38319,\n",
       " 1: 38341,\n",
       " 2: 38281,\n",
       " 3: 38313,\n",
       " 4: 38299,\n",
       " 5: 38264,\n",
       " 6: 38229,\n",
       " 7: 38227,\n",
       " 8: 38186,\n",
       " 9: 38224,\n",
       " 10: 38059,\n",
       " 11: 38018,\n",
       " 12: 37953,\n",
       " 13: 38016,\n",
       " 14: 38018,\n",
       " 15: 37963,\n",
       " 16: 37893,\n",
       " 17: 37879,\n",
       " 18: 37904,\n",
       " 19: 37997,\n",
       " 20: 37923,\n",
       " 21: 37837,\n",
       " 22: 37841,\n",
       " 23: 37752,\n",
       " 24: 37869,\n",
       " 25: 37455,\n",
       " 26: 37381,\n",
       " 27: 37389,\n",
       " 28: 37437,\n",
       " 29: 37408,\n",
       " 30: 37444,\n",
       " 31: 37367,\n",
       " 32: 37351,\n",
       " 33: 37227,\n",
       " 34: 37194,\n",
       " 35: 37091,\n",
       " 36: 36937,\n",
       " 37: 36868,\n",
       " 38: 36889,\n",
       " 39: 36702,\n",
       " 40: 36533,\n",
       " 41: 36459,\n",
       " 42: 36390,\n",
       " 43: 36221,\n",
       " 44: 36244,\n",
       " 45: 36080,\n",
       " 46: 35904,\n",
       " 47: 35714,\n",
       " 48: 35584,\n",
       " 49: 35368,\n",
       " 50: 34541,\n",
       " 51: 34449,\n",
       " 52: 34102,\n",
       " 53: 34101,\n",
       " 54: 33749,\n",
       " 55: 32685,\n",
       " 56: 32591,\n",
       " 57: 32439,\n",
       " 58: 32217,\n",
       " 59: 31858,\n",
       " 60: 30515,\n",
       " 61: 30353,\n",
       " 62: 30028,\n",
       " 63: 29816,\n",
       " 64: 29200,\n",
       " 65: 17625,\n",
       " 66: 4378,\n",
       " 67: 17499,\n",
       " 68: 17452,\n",
       " 69: 17480,\n",
       " 70: 17023,\n",
       " 71: 16585,\n",
       " 72: 16511,\n",
       " 73: 16398,\n",
       " 74: 16074,\n",
       " 75: 22469,\n",
       " 76: 22611,\n",
       " 77: 21949,\n",
       " 78: 21634,\n",
       " 79: 21102,\n",
       " 80: 19617,\n",
       " 81: 19310,\n",
       " 82: 19123,\n",
       " 83: 18535,\n",
       " 84: 17982,\n",
       " 85: 16818,\n",
       " 86: 16564,\n",
       " 87: 15982,\n",
       " 88: 15858,\n",
       " 89: 15215,\n",
       " 90: 13903,\n",
       " 91: 13719,\n",
       " 92: 13403,\n",
       " 93: 13157,\n",
       " 94: 12973,\n",
       " 95: 11841,\n",
       " 96: 11634,\n",
       " 97: 11451,\n",
       " 98: 11001,\n",
       " 99: 10892}"
      ]
     },
     "execution_count": 99,
     "metadata": {},
     "output_type": "execute_result"
    }
   ],
   "source": [
    "qual_by_pos"
   ]
  },
  {
   "cell_type": "code",
   "execution_count": 102,
   "metadata": {},
   "outputs": [],
   "source": [
    "qual_values = list(qual_by_pos.values())"
   ]
  },
  {
   "cell_type": "code",
   "execution_count": 104,
   "metadata": {},
   "outputs": [
    {
     "data": {
      "text/plain": [
       "[38319, 38341, 38281, 38313, 38299, 38264, 38229, 38227, 38186, 38224]"
      ]
     },
     "execution_count": 104,
     "metadata": {},
     "output_type": "execute_result"
    }
   ],
   "source": [
    "qual_values[:10]"
   ]
  },
  {
   "cell_type": "code",
   "execution_count": null,
   "metadata": {},
   "outputs": [],
   "source": []
  },
  {
   "cell_type": "code",
   "execution_count": null,
   "metadata": {},
   "outputs": [],
   "source": []
  },
  {
   "cell_type": "code",
   "execution_count": null,
   "metadata": {},
   "outputs": [],
   "source": []
  },
  {
   "cell_type": "code",
   "execution_count": null,
   "metadata": {},
   "outputs": [],
   "source": []
  },
  {
   "cell_type": "code",
   "execution_count": 105,
   "metadata": {},
   "outputs": [
    {
     "data": {
      "image/png": "[encoded data removed]",
      "text/plain": [
       "<Figure size 432x288 with 1 Axes>"
      ]
     },
     "metadata": {
      "needs_background": "light"
     },
     "output_type": "display_data"
    }
   ],
   "source": [
    "%matplotlib inline\n",
    "import matplotlib.pyplot as plt\n",
    "plt.plot(range(len(qual_values)), qual_values)\n",
    "plt.show()"
   ]
  },
  {
   "cell_type": "code",
   "execution_count": null,
   "metadata": {},
   "outputs": [],
   "source": [
    "# 7 answer : 66"
   ]
  },
  {
   "cell_type": "code",
   "execution_count": null,
   "metadata": {},
   "outputs": [],
   "source": []
  },
  {
   "cell_type": "code",
   "execution_count": null,
   "metadata": {},
   "outputs": [],
   "source": []
  },
  {
   "cell_type": "code",
   "execution_count": null,
   "metadata": {},
   "outputs": [],
   "source": []
  },
  {
   "cell_type": "code",
   "execution_count": null,
   "metadata": {},
   "outputs": [],
   "source": [
    "\n"
   ]
  },
  {
   "cell_type": "code",
   "execution_count": null,
   "metadata": {},
   "outputs": [],
   "source": []
  },
  {
   "cell_type": "code",
   "execution_count": null,
   "metadata": {},
   "outputs": [],
   "source": []
  },
  {
   "cell_type": "code",
   "execution_count": null,
   "metadata": {},
   "outputs": [],
   "source": []
  },
  {
   "cell_type": "code",
   "execution_count": 47,
   "metadata": {},
   "outputs": [
    {
     "name": "stdout",
     "output_type": "stream",
     "text": [
      "@ERR037900\n"
     ]
    }
   ],
   "source": [
    "print(human_genome[:10])"
   ]
  },
  {
   "cell_type": "code",
   "execution_count": null,
   "metadata": {},
   "outputs": [],
   "source": [
    "for read in reads[1:]:\n",
    "    seq = (read.split('\\n')[1:])\n",
    "    seq = ''.join(seq)\n",
    "    print(seq[:10])\n",
    "    len_seq = len(seq)\n",
    "    print(len(seq))"
   ]
  },
  {
   "cell_type": "code",
   "execution_count": null,
   "metadata": {},
   "outputs": [],
   "source": []
  }
 ],
 "metadata": {
  "kernelspec": {
   "display_name": "Python 3",
   "language": "python",
   "name": "python3"
  },
  "language_info": {
   "codemirror_mode": {
    "name": "ipython",
    "version": 3
   },
   "file_extension": ".py",
   "mimetype": "text/x-python",
   "name": "python",
   "nbconvert_exporter": "python",
   "pygments_lexer": "ipython3",
   "version": "3.6.8"
  }
 },
 "nbformat": 4,
 "nbformat_minor": 4
}
